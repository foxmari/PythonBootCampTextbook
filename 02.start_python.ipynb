{
 "cells": [
  {
   "cell_type": "markdown",
   "metadata": {},
   "source": [
    "# 2.Pythonをはじめよう\n",
    "実践を通したPythonの特徴と基本の紹介\n",
    "\n",
    "Pythonの特徴と基本を紹介します。 ただ紹介するだけではなく、簡単なプログラムを実装しつつ実践的に学んでいきます。"
   ]
  },
  {
   "cell_type": "markdown",
   "metadata": {},
   "source": [
    "## 2.1. Pythonを楽しもう\n",
    "Pythonのインストールはできましたか？\n",
    "\n",
    "ここではPythonの基本の基本を紹介します。 Pythonインタープリターに入力し結果を確認したり、Pythonファイル(.pyファイル)を作り実行しながら、Pythonにふれあいましょう。\n",
    "\n",
    "ここでは、「FizzBuzz」という簡単なプログラム（詳細は後述）を実装できることを目的にします。\n",
    "\n",
    "Pythonについてより詳しくは、後述の節で説明します。 つまり、ここで説明したことのすべてをいま理解しようとしなくても大丈夫です。次節以降でおさらいをしていきます。"
   ]
  },
  {
   "cell_type": "markdown",
   "metadata": {},
   "source": [
    "## 2.1.1. Pythonインタープリタ\n",
    "さっそくPythonで遊んでみましょう。"
   ]
  },
  {
   "cell_type": "markdown",
   "metadata": {},
   "source": [
    "Jupyter notebookを使わずに、ターミナル(WindowsではPowerShell)を使う場合は、ターミナルを立ち上げて python (macOS、Linuxの場合はpython3)と入力し、Pythonインタープリタを対話モードで起動しましょう\n",
    "\n",
    "```\n",
    "#リスト 2.1 Pythonインタープリタの起動\n",
    "$python3\n",
    "Python 3.6.6 (v3.6.6:4cf1f54eb7, Jun 26 2018, 19:50:54)\n",
    "[GCC 4.2.1 Compatible Apple LLVM 6.0 (clang-600.0.57)] on darwin\n",
    "Type \"help\", \"copyright\", \"credits\" or \"license\" for more information.\n",
    ">>>\n",
    "```"
   ]
  },
  {
   "cell_type": "markdown",
   "metadata": {},
   "source": [
    "初めにPythonインタープリタの情報と、大なり記号3つ（>>>）が表示されます。\n",
    "\n",
    "この(>>>)がPythonの対話モードでの入力を促さすプロンプトです。終了するにはCtrl-Dまたは quit() を入力します（WindowsではCtrl-Z+Enter）。\n",
    "\n",
    "Jupyter notebookを使う場合は空のセルに入力して実行してみてください。"
   ]
  },
  {
   "cell_type": "markdown",
   "metadata": {},
   "source": [
    "### ◆Pythonを電卓にする\n",
    "電卓のようにPythonを使ってみましょう。(リスト2.2)\n",
    "\n",
    "整数型（int）での四則演算（+、-、*、/）と剰余（%）"
   ]
  },
  {
   "cell_type": "code",
   "execution_count": 36,
   "metadata": {},
   "outputs": [
    {
     "data": {
      "text/plain": [
       "4"
      ]
     },
     "execution_count": 36,
     "metadata": {},
     "output_type": "execute_result"
    }
   ],
   "source": [
    "#リスト 2.2 四則演算と代入\n",
    "2 + 2"
   ]
  },
  {
   "cell_type": "code",
   "execution_count": 12,
   "metadata": {},
   "outputs": [
    {
     "data": {
      "text/plain": [
       "-5"
      ]
     },
     "execution_count": 12,
     "metadata": {},
     "output_type": "execute_result"
    }
   ],
   "source": [
    "3 - 8"
   ]
  },
  {
   "cell_type": "code",
   "execution_count": 13,
   "metadata": {},
   "outputs": [
    {
     "data": {
      "text/plain": [
       "54"
      ]
     },
     "execution_count": 13,
     "metadata": {},
     "output_type": "execute_result"
    }
   ],
   "source": [
    "6 * 9"
   ]
  },
  {
   "cell_type": "code",
   "execution_count": 14,
   "metadata": {},
   "outputs": [
    {
     "data": {
      "text/plain": [
       "4.0"
      ]
     },
     "execution_count": 14,
     "metadata": {},
     "output_type": "execute_result"
    }
   ],
   "source": [
    "8 / 2"
   ]
  },
  {
   "cell_type": "code",
   "execution_count": 15,
   "metadata": {},
   "outputs": [
    {
     "data": {
      "text/plain": [
       "1"
      ]
     },
     "execution_count": 15,
     "metadata": {},
     "output_type": "execute_result"
    }
   ],
   "source": [
    "5 % 2"
   ]
  },
  {
   "cell_type": "markdown",
   "metadata": {},
   "source": [
    "等号（=）を使って値を代入しています。\n",
    "\n",
    "width (幅)、 height (高さ)という変数を作成し、2つを掛け合わせて面積を求めています。"
   ]
  },
  {
   "cell_type": "code",
   "execution_count": 17,
   "metadata": {},
   "outputs": [
    {
     "data": {
      "text/plain": [
       "5400"
      ]
     },
     "execution_count": 17,
     "metadata": {},
     "output_type": "execute_result"
    }
   ],
   "source": [
    "width = 60\n",
    "height = 90\n",
    "width * height"
   ]
  },
  {
   "cell_type": "markdown",
   "metadata": {},
   "source": [
    "変数を作成 とは、データ(ここでは60など)にラベル(ここではwidthなど)を付けて、後で使用できるようにすることです。"
   ]
  },
  {
   "cell_type": "code",
   "execution_count": 37,
   "metadata": {},
   "outputs": [],
   "source": [
    "#試しに書いてみよう\n",
    "\n"
   ]
  },
  {
   "cell_type": "markdown",
   "metadata": {},
   "source": [
    "### 2.1.2. 文字列\n",
    "数字だけを扱うなら卓上電卓で十分ですね。文字列型（str）を使ってみましょう。\n",
    "\n",
    "シングルクォート（'）かダブルクォート（\"）の間に文字を入力することで、文字列を定義します。"
   ]
  },
  {
   "cell_type": "code",
   "execution_count": 18,
   "metadata": {},
   "outputs": [
    {
     "data": {
      "text/plain": [
       "'Hello world'"
      ]
     },
     "execution_count": 18,
     "metadata": {},
     "output_type": "execute_result"
    }
   ],
   "source": [
    "#リスト 2.3 文字列型\n",
    "'Hello world'"
   ]
  },
  {
   "cell_type": "code",
   "execution_count": 19,
   "metadata": {},
   "outputs": [
    {
     "data": {
      "text/plain": [
       "\"Monty Python's Flying Circus\""
      ]
     },
     "execution_count": 19,
     "metadata": {},
     "output_type": "execute_result"
    }
   ],
   "source": [
    "\"Monty Python's Flying Circus\""
   ]
  },
  {
   "cell_type": "code",
   "execution_count": 38,
   "metadata": {},
   "outputs": [],
   "source": [
    "#試しに書いてみよう\n",
    "\n"
   ]
  },
  {
   "cell_type": "markdown",
   "metadata": {},
   "source": [
    "文字列中にシングルクォートを含む場合はダブルクォートを使います （ 文字列型（[str](https://bootcamp-text.readthedocs.io/textbook/3_types.html#types-str)） で説明する文字のエスケープも使えます）。\n",
    "\n",
    "\n",
    "文字列は順序を持つシーケンス型の1つです。"
   ]
  },
  {
   "cell_type": "markdown",
   "metadata": {},
   "source": [
    ">【コラム: シーケンス型】\n",
    ">\n",
    ">シーケンス型は順序を持つ型で、Python標準では他にも\n",
    "> - リスト( list )型\n",
    "> - タプル( tuple )型\n",
    "> - レンジ( range )型\n",
    ">\n",
    ">などがあります。 シーケンス型は後ほど説明するインデックスによる取得もサポートしています。\n",
    ">\n",
    ">シーケンス型の詳細はPythonの公式ドキュメントを参照してください。\n",
    ">\n",
    ">シーケンス >https://docs.python.org/ja/3/library/stdtypes.html#typesseq"
   ]
  },
  {
   "cell_type": "markdown",
   "metadata": {},
   "source": [
    "### 2.1.3. リスト\n",
    "リスト（list）は、複数のデータ型の入れ物として使えます"
   ]
  },
  {
   "cell_type": "code",
   "execution_count": 21,
   "metadata": {},
   "outputs": [
    {
     "data": {
      "text/plain": [
       "['Hello', 3]"
      ]
     },
     "execution_count": 21,
     "metadata": {},
     "output_type": "execute_result"
    }
   ],
   "source": [
    "#リスト 2.4 リスト\n",
    "['Hello', 3]"
   ]
  },
  {
   "cell_type": "markdown",
   "metadata": {},
   "source": [
    "リストも文字列と同じで、順序を持つ繰返し可能な型(シーケンス)の1つです。\n",
    "\n",
    "複数のデータ型と組み合わせて使えるコレクションの1つでもあります。"
   ]
  },
  {
   "cell_type": "code",
   "execution_count": null,
   "metadata": {},
   "outputs": [],
   "source": [
    "#試しに書いてみよう\n",
    "\n",
    "\n"
   ]
  },
  {
   "cell_type": "markdown",
   "metadata": {},
   "source": [
    "### 2.1.4. コメント\n",
    "＃ より右以降の文字列は「コメント」となり、プログラムとして実行されません。"
   ]
  },
  {
   "cell_type": "code",
   "execution_count": 22,
   "metadata": {},
   "outputs": [],
   "source": [
    "#リスト 2.5 コメントの書き方\n",
    "\n",
    "#ここはコメント文"
   ]
  },
  {
   "cell_type": "code",
   "execution_count": 23,
   "metadata": {},
   "outputs": [],
   "source": [
    "a = 1  # コードの右側にも書ける"
   ]
  },
  {
   "cell_type": "markdown",
   "metadata": {},
   "source": [
    "### 2.1.5 関数\n",
    "関数とはプログラムの中で処理をひとまとめにしたものです。 Pythonでは関数は、 def を使って以下のように書きます。 末尾にはコロン（:）が必要です。\n",
    "\n",
    "```\n",
    "def ＜関数名＞(＜引数の変数名＞):\n",
    "```"
   ]
  },
  {
   "cell_type": "markdown",
   "metadata": {},
   "source": [
    "値を返すには、 return を使います。引数を2つ受け取り、合計値を返す関数は(リスト2.6)になる。"
   ]
  },
  {
   "cell_type": "code",
   "execution_count": 39,
   "metadata": {},
   "outputs": [
    {
     "data": {
      "text/plain": [
       "4"
      ]
     },
     "execution_count": 39,
     "metadata": {},
     "output_type": "execute_result"
    }
   ],
   "source": [
    "#リスト 2.6 関数定義と呼び出し \n",
    "def add(a, b):\n",
    "    return a + b\n",
    "\n",
    "add(1, 3)"
   ]
  },
  {
   "cell_type": "markdown",
   "metadata": {},
   "source": [
    "Python はブロック構造を インデント （通常は4つのスペース）で書きます。\n",
    "\n",
    "C言語のように波括弧（{ }）で囲む必要はなく、インデント自体が文の構造となります。\n",
    "\n",
    "add() 関数内の1行目のreturn文は関数の中身なので、インデントで字下げします。\n",
    "\n",
    "関数を書き終わったときにも 改行を入力 してください（最後の入力が文として終了していない場合、プロンプトが3つのドット（...）になります）。\n",
    "\n",
    "関数を呼び出すには関数名に括弧（( )）を付けて実行します。\n",
    "\n",
    "リスト 2.6 のように引数がある場合は、括弧内に引数を渡します。1と3を足した値、4が返されています。"
   ]
  },
  {
   "cell_type": "markdown",
   "metadata": {},
   "source": [
    ">【コラム: インデントの表示】\n",
    ">\n",
    ">このドキュメントをWebブラウザで見ている場合、 def と return が同じレベルにあるように見える事があります。 実際には、 return の前に、スペース4つが挿入されて、ブロック構造を表しています。"
   ]
  },
  {
   "cell_type": "markdown",
   "metadata": {},
   "source": [
    "### 組み込み関数\n",
    "Pythonには標準でいくつか関数が提供されています。これを組み込み関数と呼びます。\n",
    "\n",
    "たとえば、指定された小数点を丸めた値を作成する round() 関数は、 このように使います。"
   ]
  },
  {
   "cell_type": "code",
   "execution_count": 41,
   "metadata": {},
   "outputs": [
    {
     "data": {
      "text/plain": [
       "10"
      ]
     },
     "execution_count": 41,
     "metadata": {},
     "output_type": "execute_result"
    }
   ],
   "source": [
    "#リスト 2.7 組み込み関数round\n",
    "round(10.4)"
   ]
  },
  {
   "cell_type": "code",
   "execution_count": 40,
   "metadata": {},
   "outputs": [],
   "source": [
    "#試しに書いてみよう\n",
    "\n"
   ]
  },
  {
   "cell_type": "markdown",
   "metadata": {},
   "source": [
    "組み込み関数の一覧は、次のドキュメントを参照してください。\n",
    "\n",
    "組み込み関数 https://docs.python.org/ja/3/library/functions.html"
   ]
  },
  {
   "cell_type": "markdown",
   "metadata": {},
   "source": [
    "## 2.2. FizzBuzz\n",
    "ここで「FizzBuzz」というゲームを解くプログラムをPythonで書いてみましょう。\n",
    "\n",
    "FizzBuzzとは、複数の人が集まって行うゲームです。\n",
    "\n",
    "ひとりひとりが1から順に数字を発言し、数字が3で割り切れる場合は「Fizz」、5で割り切れる場合は「Buzz」、3 と5 で割り切れる場合は「FizzBuzz」と発言するゲームです。\n",
    "\n",
    "1から15までの答えを並べると次のようになります。\n",
    "\n",
    "```\n",
    "#リスト 2.8 FizzBuzzの15までの回答\n",
    "1, 2, Fizz, 4, Buzz, Fizz, 7, 8, Fizz, Buzz, 11, Fizz, 13, 14, FizzBuzz\n",
    "```\n",
    "1から100までのFizzBuzzを表示するPythonプログラムを作りましょう。\n",
    "\n",
    "FizzBuzzは簡単な問題ですが、実装する言語の制御文(繰り返し、条件分岐)を使いこなす必要があり、言語入門の第一歩としてちょうどよい題材です"
   ]
  },
  {
   "cell_type": "markdown",
   "metadata": {},
   "source": [
    "### 2.2.1 Pythonファイル\n",
    "Pythonファイルを作成しFizzBuzzを実装していきましょう。\n",
    "\n",
    "今まではPythonインタープリタの対話モード上でPythonのコードを直接実行していましたが、少し長い処理を書くには不便です。\n",
    "\n",
    "Python インタープリタの対話モードを終了し（【Ctrl】＋【D】を押下し）、fizzbuzz.py というファイルを作成します。"
   ]
  },
  {
   "cell_type": "code",
   "execution_count": 29,
   "metadata": {},
   "outputs": [
    {
     "name": "stdout",
     "output_type": "stream",
     "text": [
      "4\n"
     ]
    }
   ],
   "source": [
    "#リスト 2.9 fizzbuzz.py\n",
    "def fizzbuzz(num):\n",
    "    return num\n",
    "\n",
    "print(fizzbuzz(4))"
   ]
  },
  {
   "cell_type": "markdown",
   "metadata": {},
   "source": [
    "この fizzbuzz() 関数はなにも処理をせず引数をそのまま返します。これから処理を追加していくので安心してください。\n",
    "\n",
    "print 関数を使っているのは実行結果を表示するためです。\n",
    "\n",
    "対話モードでは、変数の値や関数の戻り値を変数に代入しない場合に、自動的に値を表示してくれました。\n",
    "\n",
    "Python ファイルを作成して実行する場合は、 print 関数が必要です。\n",
    "\n",
    "fizzbuzz.py を実行するには、 python コマンドに引数として渡します\n",
    "\n",
    "```\n",
    "#リスト 2.10 fizzbuzz.pyの実行\n",
    "$ python3 fizzbuzz.py\n",
    "4\n",
    "```"
   ]
  },
  {
   "cell_type": "markdown",
   "metadata": {},
   "source": [
    "ファイルが存在するフォルダと、ターミナル/PowerShellの現在位置があっているか注意してください。 fizzbuzz.pyが見つからない場合は、以下のようなエラーメッセージ(No such file or directory)が表示されます。\n",
    "\n",
    "```\n",
    "#リスト 2.11 fizzbuzz.pyの実行\n",
    "$ python3 fizzbuzz.py\n",
    "can't open file 'fizzbuzz.py': [Errno 2] No such file or directory\n",
    "```"
   ]
  },
  {
   "cell_type": "markdown",
   "metadata": {},
   "source": [
    "### 2.2.2. for文\n",
    "\n",
    "「1から100までのFizzBuzzを表示する」ために fizzbuzz() 関数に1から100までの数値を順に与えます。\n",
    "\n",
    "for 文を使って繰り返し処理を実装しましょう（リスト 2.12）。\n"
   ]
  },
  {
   "cell_type": "code",
   "execution_count": null,
   "metadata": {},
   "outputs": [],
   "source": [
    "#リスト 2.12 for文と関数の実行\n",
    "def fizzbuzz(num):\n",
    "    return num\n",
    "\n",
    "for num in range(1, 101):\n",
    "    print(fizzbuzz(num))"
   ]
  },
  {
   "cell_type": "markdown",
   "metadata": {},
   "source": [
    "```\n",
    "#リスト 2.13 fizzbuzz.pyの実行(2)¶\n",
    "$ python3 fizzbuzz.py\n",
    "1\n",
    "2\n",
    "3\n",
    ".\n",
    ".\n",
    "100\n",
    "```"
   ]
  },
  {
   "cell_type": "markdown",
   "metadata": {},
   "source": [
    "リスト 2.13 のように、実行すると1から100までの数字が表示されます。\n",
    "\n",
    "数字を順番に使って処理したい場合、組み込み関数 range() が便利です。\n",
    "\n",
    "range(1, 101)のように記述すると、1から100までの数字を順番に得ることができ、\n",
    "\n",
    "結果として fizzbuzz() 関数には1 から100までの数字が順に与えられています。\n",
    "\n",
    "現時点の fizzbuzz() 関数は与えられた引数をそのまま返す実装なので、これで問題ありません。"
   ]
  },
  {
   "cell_type": "markdown",
   "metadata": {},
   "source": [
    ">ヒント\n",
    ">http://pythontutor.com/live.html#mode=edit"
   ]
  },
  {
   "cell_type": "markdown",
   "metadata": {},
   "source": [
    "for文は次のように書きます。\n",
    "\n",
    "```\n",
    "for ＜変数名＞ in ＜シーケンス＞:\n",
    "```"
   ]
  },
  {
   "cell_type": "markdown",
   "metadata": {},
   "source": [
    "＜変数名＞ にはループ内で繰り返される変数名、 ＜シーケンス＞ には繰り返しのための変数（繰返し可能な型(シーケンス)のオブジェクト）を書きます。\n",
    "\n",
    "リスト 2.12 では、繰り返される変数 num が fizzbuzz() 関数に渡されています。\n",
    "\n",
    "繰り返しのための変数は range(1, 101) の実行結果（1から100までのイテレータ）です。\n",
    "\n",
    "関数の結果として数値が順番に返され、ひとつひとつの数字が繰り返し用の変数（num）に渡され、 for のブロックが実行されます"
   ]
  },
  {
   "cell_type": "markdown",
   "metadata": {},
   "source": [
    "### 2.2.3. if文\n",
    "FizzBuzzの処理を作るには、引数の数字（num）に応じて処理を分岐する必要があります。\n",
    "\n",
    "処理の流れとしては次のようになります。\n",
    "\n",
    "- 引数 num を受け取る\n",
    "- num と3の剰余が0（3で割り切れる）、かつ num と5の剰余が0である（5で割り切れる）場合に、 'FizzBuzz' を返す\n",
    "- num と3の剰余が0の場合に、 'Fizz' を返す\n",
    "- num と5の剰余が0の場合に、 'Buzz' を返す\n",
    "- 2〜4のどれでもない場合、引数 num を文字列にして返す\n",
    "\n",
    "Pythonで条件による処理の分岐を扱うにはif文を使います。\n",
    "\n",
    "fizzbuzz() 関数は、 リスト 2.14 のようになります。"
   ]
  },
  {
   "cell_type": "code",
   "execution_count": 46,
   "metadata": {},
   "outputs": [],
   "source": [
    "#リスト 2.14 fizzbuzz関数を完成させる\n",
    "def fizzbuzz(num):\n",
    "    if num % 3 == 0 and num % 5 == 0:\n",
    "        return 'FizzBuzz'\n",
    "    elif num % 3 == 0:\n",
    "        return 'Fizz'\n",
    "    elif num % 5 == 0:\n",
    "        return 'Buzz'\n",
    "    else:\n",
    "        return str(num)\n",
    "\n",
    "#長くなるのでコメント外してRunしてみてください\n",
    "#for num in range(1, 101):\n",
    "    #print(fizzbuzz(num))"
   ]
  },
  {
   "cell_type": "markdown",
   "metadata": {},
   "source": [
    "紹介していない要素がいくつか登場しています。\n",
    "\n",
    "◆if 文\n",
    "\n",
    "if 文は、条件に与えられた式が真と評価できる場合に、 if ブロックの処理を実行します。\n",
    "\n",
    "elif 文は、 if 文の条件が偽の場合に、追加の条件を与えます。追加の条件が真の場合に、 elif ブロックの処理を実行します。\n",
    "\n",
    "else ブロックは、どの条件にも当てはまらない場合に実行されます。\n",
    "\n",
    "◆演算子\n",
    "\n",
    "== は比較演算子の1つで、左辺と右辺が値が同じ場合に真（True） を返します。それ以外の場合には偽（False）を返します。\n",
    "\n",
    "and はブール演算子の1つで、左右の条件が True の場合に True を返します（より正確には、左の条件が真と評価できる場合に右を評価して結果を返します）。\n",
    "\n",
    "◆str() 関数\n",
    "\n",
    "引数を文字列に変換して返します。"
   ]
  },
  {
   "cell_type": "markdown",
   "metadata": {},
   "source": [
    ">ヒントhttp://pythontutor.com/live.html#mode=edit"
   ]
  },
  {
   "cell_type": "markdown",
   "metadata": {},
   "source": [
    "### 2.2.4. FizzBuzz処理の実装の完了\n",
    "これで fizzbuzz() 関数の実装が完了しました。\n",
    "\n",
    "fizzbuzz.py を実行しましょう。 リスト 2.15 のような結果になります。"
   ]
  },
  {
   "cell_type": "markdown",
   "metadata": {},
   "source": [
    "```\n",
    "#リスト 2.15 完成したfizzbuzz.pyの実行\n",
    "$ python3 fizzbuzz.py\n",
    "1\n",
    "2\n",
    "Fizz\n",
    "4\n",
    "Buzz\n",
    "Fizz\n",
    "7\n",
    "8\n",
    "Fizz\n",
    "Buzz\n",
    "11\n",
    "Fizz\n",
    "13\n",
    "14\n",
    "FizzBuzz\n",
    ".\n",
    ".\n",
    "Buzz\n",
    "```"
   ]
  },
  {
   "cell_type": "markdown",
   "metadata": {},
   "source": [
    "おめでとうございます！ これがPythonの第一歩です。\n",
    "\n",
    "FizzBuzz はいろいろな方法で実装できます。もっと短く、わかりやすく書くにはどうすればよいか、チャレンジしてみてください。"
   ]
  },
  {
   "cell_type": "markdown",
   "metadata": {},
   "source": [
    "### 2.3. まとめ\n",
    "本節では、FizzBuzzを通じたPythonの特徴、基本を紹介しました。\n",
    "\n",
    "次節では、Pythonの基本のデータ型について説明します。"
   ]
  },
  {
   "cell_type": "code",
   "execution_count": null,
   "metadata": {},
   "outputs": [],
   "source": []
  }
 ],
 "metadata": {
  "kernelspec": {
   "display_name": "Python 3",
   "language": "python",
   "name": "python3"
  },
  "language_info": {
   "codemirror_mode": {
    "name": "ipython",
    "version": 3
   },
   "file_extension": ".py",
   "mimetype": "text/x-python",
   "name": "python",
   "nbconvert_exporter": "python",
   "pygments_lexer": "ipython3",
   "version": "3.6.5"
  }
 },
 "nbformat": 4,
 "nbformat_minor": 2
}
