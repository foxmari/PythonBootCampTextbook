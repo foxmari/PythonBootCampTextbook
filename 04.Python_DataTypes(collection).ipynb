{
 "cells": [
  {
   "cell_type": "markdown",
   "metadata": {},
   "source": [
    "## 4. Pythonのデータ型（コレクション編）\n",
    "データ型をまとめるコレクションの紹介\n",
    "Pythonのデータ型のうち、複数のデータ型をひとまとめにして扱えるコレクションを紹介します。"
   ]
  },
  {
   "cell_type": "markdown",
   "metadata": {},
   "source": [
    "### 4.1. はじめに\n",
    "本節では次の4つを扱います。リスト（list）、タプル（tuple）、辞書（dict）と集合（set）を扱います。"
   ]
  },
  {
   "cell_type": "markdown",
   "metadata": {},
   "source": [
    "### 4.2. リスト（list）\n",
    "リストはコレクションの1つです。複数の型のデータをひとまとめにできます。\n",
    "\n",
    "リストを定義するには角括弧（[ ]）を使い、含める要素をカンマ（,）で区切ります（リスト 4.1）。"
   ]
  },
  {
   "cell_type": "code",
   "execution_count": 3,
   "metadata": {},
   "outputs": [
    {
     "data": {
      "text/plain": [
       "['spam', 'egg', 0.5]"
      ]
     },
     "execution_count": 3,
     "metadata": {},
     "output_type": "execute_result"
    }
   ],
   "source": [
    "#リスト 4.1 リストの定義\n",
    "['spam', 'egg', 0.5]"
   ]
  },
  {
   "cell_type": "markdown",
   "metadata": {},
   "source": [
    "リストも文字列と同様に、結合やスライスが使えます（リスト 4.2）。"
   ]
  },
  {
   "cell_type": "code",
   "execution_count": 5,
   "metadata": {},
   "outputs": [
    {
     "data": {
      "text/plain": [
       "['spam', 'ham', 'egg']"
      ]
     },
     "execution_count": 5,
     "metadata": {},
     "output_type": "execute_result"
    }
   ],
   "source": [
    "#リスト 4.2 リストの基本的な使い方　\n",
    "['spam', 'ham'] + ['egg'] #リストの結合"
   ]
  },
  {
   "cell_type": "code",
   "execution_count": 6,
   "metadata": {},
   "outputs": [
    {
     "data": {
      "text/plain": [
       "['spam', 'spam', 'spam', 'spam', 'spam']"
      ]
     },
     "execution_count": 6,
     "metadata": {},
     "output_type": "execute_result"
    }
   ],
   "source": [
    "['spam'] * 5 # リストの繰り返し"
   ]
  },
  {
   "cell_type": "code",
   "execution_count": 7,
   "metadata": {},
   "outputs": [
    {
     "data": {
      "text/plain": [
       "'spam'"
      ]
     },
     "execution_count": 7,
     "metadata": {},
     "output_type": "execute_result"
    }
   ],
   "source": [
    "['spam', 'ham', 'egg'][0] #リストの0番目を取得する"
   ]
  },
  {
   "cell_type": "code",
   "execution_count": 8,
   "metadata": {},
   "outputs": [
    {
     "data": {
      "text/plain": [
       "['ham', 'egg']"
      ]
     },
     "execution_count": 8,
     "metadata": {},
     "output_type": "execute_result"
    }
   ],
   "source": [
    "['spam', 'ham', 'egg'][1:] # リストのスライス(1番目以降)"
   ]
  },
  {
   "cell_type": "code",
   "execution_count": 9,
   "metadata": {},
   "outputs": [
    {
     "data": {
      "text/plain": [
       "3"
      ]
     },
     "execution_count": 9,
     "metadata": {},
     "output_type": "execute_result"
    }
   ],
   "source": [
    "len(['spam', 'ham', 'egg']) # リストの長さ"
   ]
  },
  {
   "cell_type": "code",
   "execution_count": 10,
   "metadata": {},
   "outputs": [
    {
     "data": {
      "text/plain": [
       "True"
      ]
     },
     "execution_count": 10,
     "metadata": {},
     "output_type": "execute_result"
    }
   ],
   "source": [
    "'ham' in ['spam', 'ham', 'egg'] # リストに特定の文字列が含まれるか"
   ]
  },
  {
   "cell_type": "markdown",
   "metadata": {},
   "source": [
    "### 4.2.1. for文\n",
    "リストは、 for 文の繰り返し用変数として使えます（リスト 4.3）。"
   ]
  },
  {
   "cell_type": "code",
   "execution_count": 11,
   "metadata": {},
   "outputs": [
    {
     "name": "stdout",
     "output_type": "stream",
     "text": [
      "cat\n",
      "dog\n",
      "snake\n"
     ]
    }
   ],
   "source": [
    "#リスト 4.3 for文とリスト\n",
    "for animal in ['cat', 'dog', 'snake']:\n",
    "    print (animal)"
   ]
  },
  {
   "cell_type": "markdown",
   "metadata": {},
   "source": [
    "ヒントはこちら　（http://pythontutor.com/live.html#mode=edit）"
   ]
  },
  {
   "cell_type": "markdown",
   "metadata": {},
   "source": [
    "### 4.2.2. 要素の追加\n",
    "リストに要素を追加するには、 .append() メソッドを使います。 .append() メソッドはリストの末尾に要素を追加します（リスト 4.4）。"
   ]
  },
  {
   "cell_type": "code",
   "execution_count": 13,
   "metadata": {},
   "outputs": [
    {
     "data": {
      "text/plain": [
       "['cat', 'dog', 'snake', 'elephant']"
      ]
     },
     "execution_count": 13,
     "metadata": {},
     "output_type": "execute_result"
    }
   ],
   "source": [
    "#リスト 4.4 リストへの要素追加\n",
    "animals = ['cat', 'dog', 'snake']\n",
    "animals.append('elephant')\n",
    "animals"
   ]
  },
  {
   "cell_type": "markdown",
   "metadata": {},
   "source": [
    "リストは変更可能なオブジェクトです。 .append() メソッドによって、 animals というリストの内容が変更されます。"
   ]
  },
  {
   "cell_type": "markdown",
   "metadata": {},
   "source": [
    "ヒント(http://pythontutor.com/live.html#mode=edit)"
   ]
  },
  {
   "cell_type": "markdown",
   "metadata": {},
   "source": [
    "### 4.2.3. リスト内包表記\n",
    "リスト内包表記はリストの定義方法の1つです。 比較的複雑なリストの定義を、シンプルに記述できます。\n",
    "\n",
    "for 文の例として animals リストから各文字列の長さの一覧を作ります（リスト 4.5）。"
   ]
  },
  {
   "cell_type": "code",
   "execution_count": 15,
   "metadata": {},
   "outputs": [
    {
     "data": {
      "text/plain": [
       "[3, 3, 5, 8]"
      ]
     },
     "execution_count": 15,
     "metadata": {},
     "output_type": "execute_result"
    }
   ],
   "source": [
    "#リスト 4.5 一般的なfor文\n",
    "ret = []\n",
    "for animal in animals:\n",
    "    ret.append(len(animal))\n",
    "\n",
    "ret"
   ]
  },
  {
   "cell_type": "markdown",
   "metadata": {},
   "source": [
    "リスト 4.5 をリスト内包表記に置き換えると、 リスト 4.6 のようになります。"
   ]
  },
  {
   "cell_type": "code",
   "execution_count": 17,
   "metadata": {},
   "outputs": [
    {
     "data": {
      "text/plain": [
       "[3, 3, 5, 8]"
      ]
     },
     "execution_count": 17,
     "metadata": {},
     "output_type": "execute_result"
    }
   ],
   "source": [
    "#リスト 4.6 リスト内包表記\n",
    "[len(animal) for animal in animals]"
   ]
  },
  {
   "cell_type": "markdown",
   "metadata": {},
   "source": [
    "3行で記述していたコードが1行になりました。内包表記を使うと簡潔に記述できることがわかったと思います。 最初は見慣れないかもしれませんが、徐々に慣れていくと良いと思います。\n",
    "\n",
    "リストの定義時に、角括弧（[ ]）の内部に for を書きます。 for ＜変数名＞ in の部分は通常の for 文と同じです。\n",
    "\n",
    "for の左側でひとつひとつ取り出した要素（ここでは animal）を使い、リストの各要素を作ります。 リスト 4.6 の場合、 len(animal) の結果が各要素になります。\n",
    "\n",
    "リスト内包表記は、条件文や複数回のループ処理も記述できます。 複雑にしすぎると、かえって可読性を落としますので、ほどほどに使用することをおすすめします。複雑になりすぎる場合はループ処理で書きましょう。 リスト内包表記の仲間に、辞書(後述)を生成する辞書内包表記や、セット(後述)を生成するセット内包表記やジェネレータ式(本チュートリアルでは取り扱わない)などもあります。 内包表記はPythonの強力な機能の1つなのでぜひ覚えておくとよいでしょう。\n",
    "\n",
    "他にも役に立つ書き方があるので、Pythonのドキュメントを参考にしてください。"
   ]
  },
  {
   "cell_type": "markdown",
   "metadata": {},
   "source": [
    ">リストの内包表記 https://docs.python.org/ja/3/tutorial/datastructures.html#list-comprehensions"
   ]
  },
  {
   "cell_type": "markdown",
   "metadata": {},
   "source": [
    "### 4.2.4. 複数変数への代入\n",
    "リストのようなシーケンス型から他のデータ型に値を代入する際、複数の変数への代入を一度に行えます（リスト 4.7）。"
   ]
  },
  {
   "cell_type": "code",
   "execution_count": 20,
   "metadata": {},
   "outputs": [
    {
     "data": {
      "text/plain": [
       "'dog'"
      ]
     },
     "execution_count": 20,
     "metadata": {},
     "output_type": "execute_result"
    }
   ],
   "source": [
    "#リスト 4.7 シーケンス型から複数変数への代入\n",
    "dog, cat = ['dog', 'cat']\n",
    "dog"
   ]
  },
  {
   "cell_type": "code",
   "execution_count": 21,
   "metadata": {},
   "outputs": [
    {
     "data": {
      "text/plain": [
       "'cat'"
      ]
     },
     "execution_count": 21,
     "metadata": {},
     "output_type": "execute_result"
    }
   ],
   "source": [
    "cat"
   ]
  },
  {
   "cell_type": "markdown",
   "metadata": {},
   "source": [
    "複数の変数への代入は、右辺が文字列や後述するタプルの場合でも可能です。"
   ]
  },
  {
   "cell_type": "markdown",
   "metadata": {},
   "source": [
    "### 4.3. タプル（tuple）\n",
    "タプルはリストと同じコレクションの1つです。\n",
    "\n",
    "タプルを定義するには括弧（( )）を使い、含める要素をカンマ（,）で区切りで並べます（リスト 4.8）。"
   ]
  },
  {
   "cell_type": "code",
   "execution_count": 22,
   "metadata": {},
   "outputs": [
    {
     "data": {
      "text/plain": [
       "('spam', 'ham', 4)"
      ]
     },
     "execution_count": 22,
     "metadata": {},
     "output_type": "execute_result"
    }
   ],
   "source": [
    "#リスト 4.8 タプルの定義\n",
    "('spam', 'ham', 4)"
   ]
  },
  {
   "cell_type": "markdown",
   "metadata": {},
   "source": [
    "タプルもリスト、文字列と同様に、結合やスライスが使えます（リスト 4.9）。"
   ]
  },
  {
   "cell_type": "code",
   "execution_count": 23,
   "metadata": {},
   "outputs": [
    {
     "data": {
      "text/plain": [
       "('spam', 'ham', 4)"
      ]
     },
     "execution_count": 23,
     "metadata": {},
     "output_type": "execute_result"
    }
   ],
   "source": [
    "#リスト 4.9 タプルの基本的な使い方\n",
    "('spam', 'ham', 4)"
   ]
  },
  {
   "cell_type": "code",
   "execution_count": 24,
   "metadata": {},
   "outputs": [
    {
     "data": {
      "text/plain": [
       "('spam', 'ham', 'egg')"
      ]
     },
     "execution_count": 24,
     "metadata": {},
     "output_type": "execute_result"
    }
   ],
   "source": [
    "('spam', 'ham') + ('egg',)       # タプルの結合"
   ]
  },
  {
   "cell_type": "code",
   "execution_count": 25,
   "metadata": {},
   "outputs": [
    {
     "data": {
      "text/plain": [
       "('spam', 'spam', 'spam', 'spam', 'spam')"
      ]
     },
     "execution_count": 25,
     "metadata": {},
     "output_type": "execute_result"
    }
   ],
   "source": [
    "('spam',) * 5       # タプルの繰り返し"
   ]
  },
  {
   "cell_type": "code",
   "execution_count": 26,
   "metadata": {},
   "outputs": [
    {
     "data": {
      "text/plain": [
       "'spam'"
      ]
     },
     "execution_count": 26,
     "metadata": {},
     "output_type": "execute_result"
    }
   ],
   "source": [
    "('spam', 'ham', 'egg')[0]        # タプルの0番目を取得する"
   ]
  },
  {
   "cell_type": "code",
   "execution_count": 27,
   "metadata": {},
   "outputs": [
    {
     "data": {
      "text/plain": [
       "('ham', 'egg')"
      ]
     },
     "execution_count": 27,
     "metadata": {},
     "output_type": "execute_result"
    }
   ],
   "source": [
    " ('spam', 'ham', 'egg')[1:]      # タプルのスライス(1番目以降)"
   ]
  },
  {
   "cell_type": "code",
   "execution_count": 28,
   "metadata": {},
   "outputs": [
    {
     "data": {
      "text/plain": [
       "3"
      ]
     },
     "execution_count": 28,
     "metadata": {},
     "output_type": "execute_result"
    }
   ],
   "source": [
    " len(('spam', 'ham', 'egg'))    # タプルの長さ"
   ]
  },
  {
   "cell_type": "code",
   "execution_count": 29,
   "metadata": {},
   "outputs": [
    {
     "data": {
      "text/plain": [
       "True"
      ]
     },
     "execution_count": 29,
     "metadata": {},
     "output_type": "execute_result"
    }
   ],
   "source": [
    " 'ham' in ('spam', 'ham', 'egg')        # タプルに特定の文字列が含まれるか"
   ]
  },
  {
   "cell_type": "markdown",
   "metadata": {},
   "source": [
    "要素が1つのタプルを定義する際にもカンマが必要な点に注意してください。 これは、処理の優先順位を決める括弧と区別するためです（リスト 4.10）。"
   ]
  },
  {
   "cell_type": "code",
   "execution_count": 31,
   "metadata": {},
   "outputs": [
    {
     "data": {
      "text/plain": [
       "('spam',)"
      ]
     },
     "execution_count": 31,
     "metadata": {},
     "output_type": "execute_result"
    }
   ],
   "source": [
    "#リスト 4.10 1要素のタプル\n",
    "('spam',)"
   ]
  },
  {
   "cell_type": "code",
   "execution_count": 32,
   "metadata": {},
   "outputs": [
    {
     "data": {
      "text/plain": [
       "'spam'"
      ]
     },
     "execution_count": 32,
     "metadata": {},
     "output_type": "execute_result"
    }
   ],
   "source": [
    "('spam')"
   ]
  },
  {
   "cell_type": "code",
   "execution_count": 33,
   "metadata": {},
   "outputs": [
    {
     "data": {
      "text/plain": [
       "('dog', 'cat')"
      ]
     },
     "execution_count": 33,
     "metadata": {},
     "output_type": "execute_result"
    }
   ],
   "source": [
    "'dog', 'cat'"
   ]
  },
  {
   "cell_type": "markdown",
   "metadata": {},
   "source": [
    "### 4.3.1. リストとの違いと使いどころ\n",
    "リストと違いタプルは不変（immutable）な値です。 リストの .append() のような破壊的な操作は存在しません。 .append() のような処理を行いたい場合は、タプルの結合により新しいタプルを作るしかありません。\n",
    "\n",
    "タプルは、関数の戻り値や不変としたい設定用の値に使います。\n",
    "\n",
    "関数からタプルを返すと、簡単に複数の値を戻り値として返すことができます。\n",
    "\n",
    "シーケンス（リスト、タプルや文字列）を受け取り、初めの要素と残りの要素に分割する関数を、 リスト 4.12 に示します。"
   ]
  },
  {
   "cell_type": "code",
   "execution_count": 34,
   "metadata": {},
   "outputs": [
    {
     "data": {
      "text/plain": [
       "'head'"
      ]
     },
     "execution_count": 34,
     "metadata": {},
     "output_type": "execute_result"
    }
   ],
   "source": [
    "#リスト 4.12 タプルを返す関数\n",
    "def head_splitter(seq):\n",
    "    return seq[0], seq[1:]\n",
    "\n",
    "head, tail = head_splitter(['head', 'body', 'tail'])\n",
    "head"
   ]
  },
  {
   "cell_type": "code",
   "execution_count": 35,
   "metadata": {},
   "outputs": [
    {
     "data": {
      "text/plain": [
       "['body', 'tail']"
      ]
     },
     "execution_count": 35,
     "metadata": {},
     "output_type": "execute_result"
    }
   ],
   "source": [
    "tail"
   ]
  },
  {
   "cell_type": "markdown",
   "metadata": {},
   "source": [
    "戻り値の順番に意味が必要になるため、要素の多いタプルを返すのは避けましょう（リスト 4.13）。"
   ]
  },
  {
   "cell_type": "code",
   "execution_count": 38,
   "metadata": {},
   "outputs": [
    {
     "data": {
      "text/plain": [
       "'head'"
      ]
     },
     "execution_count": 38,
     "metadata": {},
     "output_type": "execute_result"
    }
   ],
   "source": [
    "#リスト 4.13 要素数の多いタプルを返す関数\n",
    "def bad_implementation():\n",
    "    return 'username', 'user_password', 'user_id', 'user_permission1', 'user_permission2'\n",
    "\n",
    "head, tail = head_splitter(['head', 'body', 'tail'])\n",
    "head"
   ]
  },
  {
   "cell_type": "code",
   "execution_count": 39,
   "metadata": {},
   "outputs": [
    {
     "data": {
      "text/plain": [
       "['body', 'tail']"
      ]
     },
     "execution_count": 39,
     "metadata": {},
     "output_type": "execute_result"
    }
   ],
   "source": [
    "tail"
   ]
  },
  {
   "cell_type": "markdown",
   "metadata": {},
   "source": [
    "戻り値の順番に意味が必要になるため、要素の多いタプルを返すのは避けましょう（リスト 4.13）。"
   ]
  },
  {
   "cell_type": "code",
   "execution_count": 42,
   "metadata": {},
   "outputs": [],
   "source": [
    "#リスト 4.13 要素数の多いタプルを返す関数\n",
    "def bad_implementation():\n",
    "    return 'username', 'user_password', 'user_id', 'user_permission1', 'user_permission2'\n",
    "\n",
    "username, user_password, user_id, user_permission1, user_permission2 = bad_implementation()"
   ]
  },
  {
   "cell_type": "markdown",
   "metadata": {},
   "source": [
    "要素数の多いタプルを返す関数 のような場合、辞書（後述）、専用のクラスのインスタンス、名前付きタプルなどで返しましょう （クラスの定義方法、名前付きタプルについては、本チュートリアルでは説明しません）。"
   ]
  },
  {
   "cell_type": "markdown",
   "metadata": {},
   "source": [
    "## 4.4. 辞書（dict）\n",
    "辞書もリスト、タプルと同じコレクションです。\n",
    "\n",
    "辞書はリストとは違い、各要素に順番を持ちません。代わりにキー（key）と、対応する値（value）を持ちます。\n",
    "\n",
    "辞書を定義するには波括弧（{} )で各要素を囲み、コロン（:）でキーと値を書きます（リスト 4.14）。 値と次のキーの間はカンマ（,）で区切ります。"
   ]
  },
  {
   "cell_type": "code",
   "execution_count": 44,
   "metadata": {},
   "outputs": [
    {
     "data": {
      "text/plain": [
       "{'user_name': 'taro', 'last_name': 'Yamada'}"
      ]
     },
     "execution_count": 44,
     "metadata": {},
     "output_type": "execute_result"
    }
   ],
   "source": [
    "#リスト 4.14 辞書\n",
    "user_info = {'user_name': 'taro', 'last_name': 'Yamada'}\n",
    "user_info"
   ]
  },
  {
   "cell_type": "markdown",
   "metadata": {},
   "source": [
    "リスト 4.14 の user_info から 'user_name' の値を取り出す処理は、 リスト 4.15 になります。"
   ]
  },
  {
   "cell_type": "code",
   "execution_count": 47,
   "metadata": {},
   "outputs": [
    {
     "data": {
      "text/plain": [
       "'taro'"
      ]
     },
     "execution_count": 47,
     "metadata": {},
     "output_type": "execute_result"
    }
   ],
   "source": [
    "#リスト 4.15 辞書からの値の取り出し\n",
    "user_info['user_name']"
   ]
  },
  {
   "cell_type": "markdown",
   "metadata": {},
   "source": [
    "既存の辞書に値を設定するには、 辞書[＜キー＞] に直接代入します（リスト 4.16）。"
   ]
  },
  {
   "cell_type": "code",
   "execution_count": 49,
   "metadata": {},
   "outputs": [
    {
     "data": {
      "text/plain": [
       "{'user_name': 'taro', 'last_name': 'Yamada', 'first_name': 'Taro'}"
      ]
     },
     "execution_count": 49,
     "metadata": {},
     "output_type": "execute_result"
    }
   ],
   "source": [
    "#リスト 4.16 辞書への値の設定\n",
    "user_info['first_name'] = 'Taro'\n",
    "user_info"
   ]
  },
  {
   "cell_type": "markdown",
   "metadata": {},
   "source": [
    "### 4.4.1. in\n",
    "辞書内にキーが存在しているかどうかを調べるには、 in を使います（リスト 4.17）。"
   ]
  },
  {
   "cell_type": "code",
   "execution_count": 50,
   "metadata": {},
   "outputs": [
    {
     "data": {
      "text/plain": [
       "True"
      ]
     },
     "execution_count": 50,
     "metadata": {},
     "output_type": "execute_result"
    }
   ],
   "source": [
    "#リスト 4.17 辞書のin\n",
    "'user_name' in user_info"
   ]
  },
  {
   "cell_type": "code",
   "execution_count": 51,
   "metadata": {},
   "outputs": [
    {
     "data": {
      "text/plain": [
       "False"
      ]
     },
     "execution_count": 51,
     "metadata": {},
     "output_type": "execute_result"
    }
   ],
   "source": [
    "'bio' in user_info"
   ]
  },
  {
   "cell_type": "markdown",
   "metadata": {},
   "source": [
    "### 4.4.2. .get()メソッド\n",
    "辞書から値を取得するときに、キーが存在しない場合はエラー(KeyError)になります（リスト 4.18）。"
   ]
  },
  {
   "cell_type": "code",
   "execution_count": 52,
   "metadata": {},
   "outputs": [
    {
     "ename": "KeyError",
     "evalue": "'bio'",
     "output_type": "error",
     "traceback": [
      "\u001b[0;31m---------------------------------------------------------------------------\u001b[0m",
      "\u001b[0;31mKeyError\u001b[0m                                  Traceback (most recent call last)",
      "\u001b[0;32m<ipython-input-52-ada0143ab3b3>\u001b[0m in \u001b[0;36m<module>\u001b[0;34m()\u001b[0m\n\u001b[1;32m      1\u001b[0m \u001b[0;31m#リスト 4.18 存在しないキーの参照\u001b[0m\u001b[0;34m\u001b[0m\u001b[0;34m\u001b[0m\u001b[0m\n\u001b[0;32m----> 2\u001b[0;31m \u001b[0muser_info\u001b[0m\u001b[0;34m[\u001b[0m\u001b[0;34m'bio'\u001b[0m\u001b[0;34m]\u001b[0m\u001b[0;34m\u001b[0m\u001b[0m\n\u001b[0m",
      "\u001b[0;31mKeyError\u001b[0m: 'bio'"
     ]
    }
   ],
   "source": [
    "#リスト 4.18 存在しないキーの参照\n",
    "user_info['bio']"
   ]
  },
  {
   "cell_type": "markdown",
   "metadata": {},
   "source": [
    ".get() メソッドで取得すると、キーが存在しない場合には None が返されます（ リスト 4.19）。"
   ]
  },
  {
   "cell_type": "code",
   "execution_count": 53,
   "metadata": {},
   "outputs": [
    {
     "data": {
      "text/plain": [
       "'taro'"
      ]
     },
     "execution_count": 53,
     "metadata": {},
     "output_type": "execute_result"
    }
   ],
   "source": [
    "#リスト 4.19 存在しないキーへのget\n",
    "user_info.get('user_name')"
   ]
  },
  {
   "cell_type": "code",
   "execution_count": 54,
   "metadata": {},
   "outputs": [],
   "source": [
    "bio = user_info.get('bio')\n",
    "print(bio)"
   ]
  },
  {
   "cell_type": "markdown",
   "metadata": {},
   "source": [
    "None は、Pythonの組み込み定数の1つで、何も値がないことを表します。\n",
    "\n",
    "インタープリタは None を表示しないので、明示的に print 関数を使っています。\n",
    "\n",
    "値が存在しないときに None 以外の値を返したい場合には、 .get() メソッドの第2引数に返したい値を指定します。 'bio' の値が取れない場合に空文字列（''）としたい場合は、 リスト 4.20 のように書きます。"
   ]
  },
  {
   "cell_type": "code",
   "execution_count": 56,
   "metadata": {},
   "outputs": [
    {
     "data": {
      "text/plain": [
       "''"
      ]
     },
     "execution_count": 56,
     "metadata": {},
     "output_type": "execute_result"
    }
   ],
   "source": [
    "#リスト 4.20 デフォルト値付きのget\n",
    "user_info.get('bio', '')"
   ]
  },
  {
   "cell_type": "markdown",
   "metadata": {},
   "source": [
    "### 4.4.3. for文\n",
    "\n",
    "辞書を for 文の繰り返し用変数として使用すると、変数にはキーが入ります(リスト 4.21)。"
   ]
  },
  {
   "cell_type": "code",
   "execution_count": 59,
   "metadata": {},
   "outputs": [
    {
     "name": "stdout",
     "output_type": "stream",
     "text": [
      "user_name\n",
      "taro\n",
      "last_name\n",
      "Yamada\n"
     ]
    }
   ],
   "source": [
    "#リスト 4.21 辞書を使用したfor文\n",
    "user_info = {'user_name': 'taro', 'last_name': 'Yamada'}\n",
    "for key in user_info:\n",
    "    print(key)\n",
    "    print(user_info[key])"
   ]
  },
  {
   "cell_type": "markdown",
   "metadata": {},
   "source": [
    ">ヒント　（http://pythontutor.com/live.html#mode=edit）"
   ]
  },
  {
   "cell_type": "markdown",
   "metadata": {},
   "source": [
    "### 4.4.4. .keys()メソッド、.values()メソッド、.items()メソッド\n",
    "\n",
    "すべてのキー、値の要素をリストで取得するには、 .keys() 、 .values() 、 .items() メソッドを使います。\n",
    "\n",
    ".keys(): すべてのキーを取得\n",
    ".values(): すべての値を取得\n",
    ".items(): すべてのキーと値を、要素が2つのタプルで取得\n",
    "たとえば、辞書内のすべてのキーと値を取得するには、 リスト 4.22 のようにします。"
   ]
  },
  {
   "cell_type": "code",
   "execution_count": 60,
   "metadata": {},
   "outputs": [
    {
     "data": {
      "text/plain": [
       "dict_items([('foo', 'spam'), ('bar', 'ham')])"
      ]
     },
     "execution_count": 60,
     "metadata": {},
     "output_type": "execute_result"
    }
   ],
   "source": [
    "#リスト 4.22 辞書内のすべてのキーと値を取得\n",
    "d = {'foo': 'spam', 'bar': 'ham'}\n",
    "d.items()"
   ]
  },
  {
   "cell_type": "markdown",
   "metadata": {},
   "source": [
    ".items() の結果を for 文に渡せば、辞書内のすべての値を使った繰り返し処理を書けます。\n",
    "\n",
    "for 文の変数名を2つ指定することで、要素が2つのタプルからキーと値をそれぞれの変数に一度で受け取れます（リスト 4.23）。"
   ]
  },
  {
   "cell_type": "code",
   "execution_count": 61,
   "metadata": {},
   "outputs": [
    {
     "name": "stdout",
     "output_type": "stream",
     "text": [
      "foo spam\n",
      "bar ham\n"
     ]
    }
   ],
   "source": [
    "#リスト 4.23 for文で辞書のキーと値を使う\n",
    "d = {'foo': 'spam', 'bar': 'ham'}\n",
    "for key, value in d.items():\n",
    "    print(key, value)"
   ]
  },
  {
   "cell_type": "markdown",
   "metadata": {},
   "source": [
    "各メソッドの戻り値はイテレータブルオブジェクトです。"
   ]
  },
  {
   "cell_type": "markdown",
   "metadata": {},
   "source": [
    ">【コラム】イテレータブルオブジェクト\n",
    ">\n",
    ">.keys() 、 .values() 、 .items() の戻り値の型はリストやタプルではなく dict_items ですが、 for 文でデータを取り出すことができます。Pythonの for 文は、「イテレータブルオブジェクト」という連続したデータ構造を表すオブジェクトであれば扱えるため、このような動きになります。\n"
   ]
  },
  {
   "cell_type": "markdown",
   "metadata": {},
   "source": [
    "## 4.5. 集合（set）\n",
    "集合型（set）はコレクション型の1つです。\n",
    "\n",
    "リストやタプルのように値しか持ちませんが、順序も持ちません。\n",
    "\n",
    "1つの集合内には同じ値が1つしか存在できません。そのため、一意な値を管理する際に非常に役立ちます。\n",
    "\n",
    "ただし、辞書のキーと同じように、集合内には不変の値しか持てません。\n",
    "\n",
    "集合は波括弧（{ }）で囲んだ中に、要素をカンマ（,）で区切って指定して定義します（リスト 4.24）。"
   ]
  },
  {
   "cell_type": "code",
   "execution_count": 63,
   "metadata": {},
   "outputs": [
    {
     "data": {
      "text/plain": [
       "{'ham', 'spam'}"
      ]
     },
     "execution_count": 63,
     "metadata": {},
     "output_type": "execute_result"
    }
   ],
   "source": [
    "# リスト 4.24 集合の定義\n",
    "{'spam', 'ham'}"
   ]
  },
  {
   "cell_type": "code",
   "execution_count": 64,
   "metadata": {},
   "outputs": [
    {
     "data": {
      "text/plain": [
       "{'spam'}"
      ]
     },
     "execution_count": 64,
     "metadata": {},
     "output_type": "execute_result"
    }
   ],
   "source": [
    "{'spam', 'spam', 'spam'}"
   ]
  },
  {
   "cell_type": "markdown",
   "metadata": {},
   "source": [
    "# 4.5.1. .add()メソッド\n",
    "集合に要素を追加するには .add() メソッドを使います。 追加したい要素を引数に渡して呼び出します（リスト 4.25）。"
   ]
  },
  {
   "cell_type": "code",
   "execution_count": 65,
   "metadata": {},
   "outputs": [
    {
     "data": {
      "text/plain": [
       "{'cat', 'dog', 'shake'}"
      ]
     },
     "execution_count": 65,
     "metadata": {},
     "output_type": "execute_result"
    }
   ],
   "source": [
    "#リスト 4.25 集合への要素の追加\n",
    "unique_users = {'dog', 'cat'}\n",
    "unique_users.add('shake')\n",
    "unique_users"
   ]
  },
  {
   "cell_type": "markdown",
   "metadata": {},
   "source": [
    "集合の要素数も len() 関数で取得できます（リスト 4.26）。"
   ]
  },
  {
   "cell_type": "code",
   "execution_count": 67,
   "metadata": {},
   "outputs": [
    {
     "data": {
      "text/plain": [
       "3"
      ]
     },
     "execution_count": 67,
     "metadata": {},
     "output_type": "execute_result"
    }
   ],
   "source": [
    "#リスト 4.26 集合によるユニーク数管理\n",
    "len(unique_users)"
   ]
  },
  {
   "cell_type": "code",
   "execution_count": 69,
   "metadata": {},
   "outputs": [
    {
     "data": {
      "text/plain": [
       "4"
      ]
     },
     "execution_count": 69,
     "metadata": {},
     "output_type": "execute_result"
    }
   ],
   "source": [
    "unique_users.add('snake')\n",
    "unique_users.add('snake')\n",
    "unique_users.add('snake')\n",
    "len(unique_users)"
   ]
  },
  {
   "cell_type": "markdown",
   "metadata": {},
   "source": [
    "リスト 4.26 で要素が2つの unique_users という集合を定義し、後に要素を追加しています。 ここで unique_users の要素数は3です。 リスト 4.26 では、集合内にすでに存在する 'snake' という要素を .add() で3 回追加していますが、 len() 関数の結果は変わりません。\n",
    "\n",
    "このように、集合では一意な値が適切に管理されていることがわかります。"
   ]
  },
  {
   "cell_type": "markdown",
   "metadata": {},
   "source": [
    "### 4.5.2. 集合の積と和\n",
    "2つの集合から集合の積を取り、両方の集合に存在する要素の集合を取得できます。\n",
    "\n",
    "この場合、2つの集合に対してAND（&）演算子を使います（リスト 4.27）。"
   ]
  },
  {
   "cell_type": "code",
   "execution_count": 70,
   "metadata": {},
   "outputs": [
    {
     "data": {
      "text/plain": [
       "{'view'}"
      ]
     },
     "execution_count": 70,
     "metadata": {},
     "output_type": "execute_result"
    }
   ],
   "source": [
    "#リスト 4.27 2集合の積\n",
    "allowed_permissions = {'edit', 'view'}\n",
    "requested_permissions = {'view', 'delete'}\n",
    "allowed_permissions & requested_permissions"
   ]
  },
  {
   "cell_type": "markdown",
   "metadata": {},
   "source": [
    "リスト 4.27 では、アプリケーションから許可された権限の一覧 allowed_permissions を使って、ユーザに要求された権限 requested_permissions のフィルタリングを行う状況を想定しています。 結果としてユーザに許可された権限は 'view' のみとなりました。\n",
    "\n",
    "集合の和も取得できます。 両方の集合を合わせた集合を取得できます。 2つの集合に対してOR（¦）演算子を使います（リスト 4.28）。\n",
    "\n"
   ]
  },
  {
   "cell_type": "code",
   "execution_count": 71,
   "metadata": {},
   "outputs": [
    {
     "data": {
      "text/plain": [
       "{'approve', 'comment', 'edit'}"
      ]
     },
     "execution_count": 71,
     "metadata": {},
     "output_type": "execute_result"
    }
   ],
   "source": [
    "#リスト 4.28 2つの集合の和\n",
    "editor = {'edit', 'comment'}\n",
    "reviewer = {'comment', 'approve'}\n",
    "editor | reviewer"
   ]
  },
  {
   "cell_type": "markdown",
   "metadata": {},
   "source": [
    "リスト 4.28 では、editor と reviewer はロール（役割）を想定しています。 この2つのロールを持つユーザは、'edit'、'comment' と 'approve' の権限を持つことを算出しました。"
   ]
  },
  {
   "cell_type": "markdown",
   "metadata": {},
   "source": [
    "## 4.6. まとめ\n",
    "データ型をひとまとめにして扱えるコレクションを紹介しました。 実現したいことに合わせたコレクションを選択しましょう。"
   ]
  },
  {
   "cell_type": "code",
   "execution_count": null,
   "metadata": {},
   "outputs": [],
   "source": []
  },
  {
   "cell_type": "code",
   "execution_count": null,
   "metadata": {},
   "outputs": [],
   "source": []
  }
 ],
 "metadata": {
  "kernelspec": {
   "display_name": "Python 3",
   "language": "python",
   "name": "python3"
  },
  "language_info": {
   "codemirror_mode": {
    "name": "ipython",
    "version": 3
   },
   "file_extension": ".py",
   "mimetype": "text/x-python",
   "name": "python",
   "nbconvert_exporter": "python",
   "pygments_lexer": "ipython3",
   "version": "3.6.5"
  }
 },
 "nbformat": 4,
 "nbformat_minor": 2
}
